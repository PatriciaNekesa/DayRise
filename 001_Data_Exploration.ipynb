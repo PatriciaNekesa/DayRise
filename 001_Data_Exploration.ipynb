{
 "cells": [
  {
   "cell_type": "code",
   "execution_count": 1,
   "id": "2ab864a9-7fd9-4946-99c1-6b70f7ddb229",
   "metadata": {},
   "outputs": [],
   "source": [
    "import pandas as pd\n",
    "import numpy as np"
   ]
  },
  {
   "cell_type": "code",
   "execution_count": 2,
   "id": "d736f97b-c6fc-449c-9439-e32ddd20867c",
   "metadata": {},
   "outputs": [],
   "source": [
    "data_source = pd.read_excel('Dayrize_Automation_Database Screening+Patricia.xlsx')"
   ]
  },
  {
   "cell_type": "code",
   "execution_count": 4,
   "id": "4c8a2518-98fb-4471-9b71-6b75bddfb464",
   "metadata": {},
   "outputs": [
    {
     "name": "stdout",
     "output_type": "stream",
     "text": [
      "<class 'pandas.core.frame.DataFrame'>\n",
      "RangeIndex: 398 entries, 0 to 397\n",
      "Data columns (total 30 columns):\n",
      " #   Column                                                   Non-Null Count  Dtype  \n",
      "---  ------                                                   --------------  -----  \n",
      " 0   #                                                        395 non-null    float64\n",
      " 1   Website Name                                             398 non-null    object \n",
      " 2   Website URL                                              389 non-null    object \n",
      " 3   Initial Category                                         177 non-null    object \n",
      " 4   Proposed Category                                        58 non-null     object \n",
      " 5   Information Type                                         238 non-null    object \n",
      " 6   Important Note                                           61 non-null     object \n",
      " 7   Developer Note if Webscarping                            16 non-null     object \n",
      " 8   Frequency of Update                                      60 non-null     object \n",
      " 9   Products Available                                       30 non-null     object \n",
      " 10  Product Category if Multiple products are available      30 non-null     object \n",
      " 11  Data Availability                                        162 non-null    object \n",
      " 12  How to Obtain Data                                       129 non-null    object \n",
      " 13  Database of [Entry Type]                                 58 non-null     object \n",
      " 14  Database size                                            10 non-null     object \n",
      " 15  Product Attributes                                       123 non-null    object \n",
      " 16  Which Reference Product Types is it useful for?          29 non-null     object \n",
      " 17  Science Team - Potential Use Comment                     330 non-null    object \n",
      " 18  Useful for Reference Product Database? Y/N               50 non-null     object \n",
      " 19  Bill of Materials or Formulations                        15 non-null     object \n",
      " 20  Supply chain mapping                                     42 non-null     object \n",
      " 21  Product certifications                                   5 non-null      object \n",
      " 22  Product other                                            12 non-null     object \n",
      " 23  Material certifications                                  8 non-null      object \n",
      " 24  Material other                                           18 non-null     object \n",
      " 25  Other potential application                              12 non-null     object \n",
      " 26  Of Interest? Based on initial quick screening (Yes = 1)  364 non-null    float64\n",
      " 27  Priority Group                                           87 non-null     object \n",
      " 28  Owner                                                    86 non-null     object \n",
      " 29  Relevant GS1 Brick Products found in database            3 non-null      object \n",
      "dtypes: float64(2), object(28)\n",
      "memory usage: 93.4+ KB\n"
     ]
    }
   ],
   "source": [
    "data_source.info()"
   ]
  },
  {
   "cell_type": "code",
   "execution_count": 31,
   "id": "c10aad05-a69b-4af9-bbbf-275b2d8a47c2",
   "metadata": {},
   "outputs": [
    {
     "data": {
      "text/plain": [
       "array(['Data available under div class=\"sqs-block-content\"',\n",
       "       'Require selenium to download as its a dynamic page where the data is shown once you click on it',\n",
       "       nan, 'Data available under div class= \"t431__data-part2\"',\n",
       "       \"1. Use Selenium to open chrom in headless mode \\nto scroll to bottom of the page so that all products are loaded\\n2. Items are under div class_='dbt_tr dbt_tr_item'\\n\",\n",
       "       'Data available under div class=\"product-detail__specs\"',\n",
       "       'Data available under div class=\"content\"',\n",
       "       'List of data is available under \"<a class=\"listinline\"\\nHave to use selenium as its a dynmic data with 10 products shown per page. \\nSo we have to load the page and fetch data from each product ',\n",
       "       'he landing page is a dynamic page which has to be scrolled down using selenium in headless browser state \\nThen get URL for each product from the list here <div id=\"thumbnail-flex-box\">\\nproduct information is available under <div id=\"root\"> on the URL received from the previous step',\n",
       "       'Data is under <div class=\"container product-detail\">',\n",
       "       'List of product avaiable under <section class=\"results-and-filters\">\\nGet the URL from href and go to the individual product site. \\nFetch the information for each product',\n",
       "       'Data under <div class=\"epd__Column-sc-9l6euf-8 cFmSuI\">',\n",
       "       'Once you search data based on category, ths list of results will be available under:\\n<div class=\"search-results\" data-reactid=\"97\">\\nEach Product information is under on the product url:\\n<div class=\"container product-detail\">',\n",
       "       'Search data based on category, ths list of results will be available under:\\ndiv class=\"dFlex alignItemsCenter\" \\nEach Product information is under on the product url:\\n<div class=\"container product-detail\">',\n",
       "       'Its a website hosted on PoweBI.',\n",
       "       'data under <div class=\"content \">\\n    ',\n",
       "       'Select Category based on the List provided \\nin product category'],\n",
       "      dtype=object)"
      ]
     },
     "execution_count": 31,
     "metadata": {},
     "output_type": "execute_result"
    }
   ],
   "source": [
    "data_source['Developer Note if Webscarping'].unique()"
   ]
  },
  {
   "cell_type": "code",
   "execution_count": null,
   "id": "c622531f-fd87-4079-93ae-3d44f613cd9e",
   "metadata": {},
   "outputs": [],
   "source": []
  }
 ],
 "metadata": {
  "kernelspec": {
   "display_name": "Python 3 (ipykernel)",
   "language": "python",
   "name": "python3"
  },
  "language_info": {
   "codemirror_mode": {
    "name": "ipython",
    "version": 3
   },
   "file_extension": ".py",
   "mimetype": "text/x-python",
   "name": "python",
   "nbconvert_exporter": "python",
   "pygments_lexer": "ipython3",
   "version": "3.9.0"
  }
 },
 "nbformat": 4,
 "nbformat_minor": 5
}
